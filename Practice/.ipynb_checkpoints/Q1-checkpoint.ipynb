{
 "cells": [
  {
   "cell_type": "code",
   "execution_count": 129,
   "metadata": {},
   "outputs": [],
   "source": [
    "import xml.etree.ElementTree as ET\n",
    "import pandas as pd\n",
    "import csv"
   ]
  },
  {
   "cell_type": "code",
   "execution_count": 130,
   "metadata": {},
   "outputs": [],
   "source": [
    "def openxml():\n",
    "    try: \n",
    "        tree = ET.parse('theoDataset.xml')    #Parsing XML\n",
    "        root = tree.getroot()\n",
    "        print(root)\n",
    "        return root\n",
    "    except IOError: \n",
    "        print('cannot open xml file')        #If file not found then this exception will be called"
   ]
  },
  {
   "cell_type": "code",
   "execution_count": 131,
   "metadata": {},
   "outputs": [],
   "source": [
    "def xml2df(myroot):                          #root = 'dataset' in current file \n",
    "    all_records = []\n",
    "    for i, child in enumerate(myroot):       #child = 'subject' in current file\n",
    "        record = {}\n",
    "        for subchild in child:               #subchild = 'id, weight, dose, time conc' in current file\n",
    "            record[subchild.tag] = subchild.text         #record is a list\n",
    "        all_records.append(record)                          \n",
    "    return pd.DataFrame(all_records)                    #List is converted into dataframe"
   ]
  },
  {
   "cell_type": "code",
   "execution_count": 132,
   "metadata": {},
   "outputs": [],
   "source": [
    "def print_records(record,df):\n",
    "    print(\"id: {} \".format(df.loc[record,\"id\"]))               #df.loc used for accesing the elements in pandas\n",
    "    print(\"weight: {} \".format(df.loc[record,\"weight\"]))\n",
    "    print(\"conc: {} \".format(df.loc[record,\"conc\"]))    "
   ]
  },
  {
   "cell_type": "code",
   "execution_count": 133,
   "metadata": {},
   "outputs": [],
   "source": [
    "def xml2csv(myroot):\n",
    "    \n",
    "    root = myroot\n",
    "    \n",
    "    #Open File for writing\n",
    "    theo_data = open('theodata.csv', 'w')\n",
    "    \n",
    "    # create the csv writer object\n",
    "    csvwriter = csv.writer(theo_data)\n",
    "    theo_head = []\n",
    "    \n",
    "    count = 0\n",
    "    for x in root.findall('subject'):\n",
    "        theo = []\n",
    "        if count == 0:\n",
    "            #Printing column names\n",
    "            id = x.find('id').tag\n",
    "            theo_head.append(id)\n",
    "            weight = x.find('weight').tag\n",
    "            theo_head.append(weight)\n",
    "            dose = x.find('dose').tag\n",
    "            theo_head.append(dose)\n",
    "            time = x.find('time').tag\n",
    "            theo_head.append(time)\n",
    "            conc = x.find('conc').tag\n",
    "            theo_head.append(conc)\n",
    "            csvwriter.writerow(theo_head)\n",
    "            count = count + 1\n",
    "        #Printing values in the columns\n",
    "        id = x.find('id').text\n",
    "        theo.append(id)\n",
    "        weight = x.find('weight').text\n",
    "        theo.append(weight)\n",
    "        dose = x.find('dose').text\n",
    "        theo.append(dose)\n",
    "        time = x.find('time').text\n",
    "        theo.append(time)\n",
    "        conc = x.find('conc').text\n",
    "        theo.append(conc)\n",
    "        csvwriter.writerow(theo)\n",
    "    theo_data.close()\n",
    "    \n",
    "    "
   ]
  },
  {
   "cell_type": "code",
   "execution_count": 134,
   "metadata": {},
   "outputs": [
    {
     "name": "stdout",
     "output_type": "stream",
     "text": [
      "<Element 'dataset' at 0x7fd324080950>\n",
      "id: 7 \n",
      "weight: 85.2 \n",
      "conc: 8.2 \n",
      "id: 16 \n",
      "weight: 88.5 \n",
      "conc: 10.03 \n",
      "id: 4 \n",
      "weight: 83.1 \n",
      "conc: 7.57 \n",
      "id: 9 \n",
      "weight: 86.7 \n",
      "conc: 4.12 \n",
      "id: 8 \n",
      "weight: 75.5 \n",
      "conc: 0.58 \n",
      "id: 14 \n",
      "weight: 68.8 \n",
      "conc: 3.77 \n"
     ]
    }
   ],
   "source": [
    "def main():\n",
    "\n",
    "    myroot = openxml()\n",
    "\n",
    "    df = xml2df(myroot)\n",
    "\n",
    "    print_records(0,df)\n",
    "    print_records(2,df)\n",
    "    print_records(4,df)\n",
    "    print_records(6,df)\n",
    "    print_records(8,df)\n",
    "    print_records(10,df)\n",
    "    \n",
    "    xml2csv(myroot)\n",
    "    \n",
    "if __name__==\"__main__\":\n",
    "    main()"
   ]
  },
  {
   "cell_type": "code",
   "execution_count": null,
   "metadata": {},
   "outputs": [],
   "source": []
  }
 ],
 "metadata": {
  "kernelspec": {
   "display_name": "Python 3",
   "language": "python",
   "name": "python3"
  },
  "language_info": {
   "codemirror_mode": {
    "name": "ipython",
    "version": 3
   },
   "file_extension": ".py",
   "mimetype": "text/x-python",
   "name": "python",
   "nbconvert_exporter": "python",
   "pygments_lexer": "ipython3",
   "version": "3.8.3"
  }
 },
 "nbformat": 4,
 "nbformat_minor": 4
}
