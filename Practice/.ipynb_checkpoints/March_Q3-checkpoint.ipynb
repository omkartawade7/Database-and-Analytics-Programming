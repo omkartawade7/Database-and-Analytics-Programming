{
 "cells": [
  {
   "cell_type": "code",
   "execution_count": 4,
   "metadata": {},
   "outputs": [],
   "source": [
    "import re"
   ]
  },
  {
   "cell_type": "code",
   "execution_count": 5,
   "metadata": {},
   "outputs": [],
   "source": [
    "text = '''All I want is a proper cup of coffee\n",
    "Made in a proper copper coffee pot\n",
    "I may be off my dot\n",
    "But I want a cup of coffee\n",
    "From a proper coffee pot\n",
    "Tin coffee pots and iron coffee pots\n",
    "They’re no use to me\n",
    "If I can’t have a proper cup of coffee\n",
    "In a proper copper coffee pot\n",
    "I’ll have a cup of tea\n",
    "'''"
   ]
  },
  {
   "cell_type": "code",
   "execution_count": 6,
   "metadata": {},
   "outputs": [
    {
     "name": "stdout",
     "output_type": "stream",
     "text": [
      "All I want is a proper cup of coffee\n",
      "Made in a proper copper coffee {pot}\n",
      "I may be off my {dot}\n",
      "But I want a cup of coffee\n",
      "From a proper coffee {pot}\n",
      "Tin coffee pots and iron coffee pots\n",
      "They’re no use to me\n",
      "If I can’t have a proper cup of coffee\n",
      "In a proper copper coffee {pot}\n",
      "I’ll have a cup of {tea}\n"
     ]
    }
   ],
   "source": [
    "print(re.compile(r'tea|dot|pot$',re.M).sub('{\\g<0>}',text.rstrip()))\n",
    "#re.M - Makes $ match the end of a line (not just the end of the string) and makes ^ match the start of any line (not just the start of the string).\n",
    "#$ - Ends with"
   ]
  },
  {
   "cell_type": "code",
   "execution_count": 7,
   "metadata": {},
   "outputs": [
    {
     "name": "stdout",
     "output_type": "stream",
     "text": [
      "{All} {I} {want} {is} {a} {proper} cup {of} coffee\n",
      "{Made} {in} {a} {proper} {copper} coffee pot\n",
      "{I} {may} {be} {off} {my} {dot}\n",
      "{But} {I} {want} {a} cup {of} coffee\n",
      "{From} {a} {proper} coffee pot\n",
      "{Tin} coffee {pots} {and} {iron} coffee {pots}\n",
      "{They}’{re} {no} {use} {to} {me}\n",
      "{If} {I} {can}’{t} {have} {a} {proper} cup {of} coffee\n",
      "{In} {a} {proper} {copper} coffee pot\n",
      "{I}’{ll} {have} {a} cup {of} {tea}\n"
     ]
    }
   ],
   "source": [
    "print(re.compile(r'\\b(?!coffee|cup|pot\\b)\\w+',re.M).sub('{\\g<0>}',text.rstrip()))\n",
    "#Returns a match where the specified characters are at the beginning or at the end of a word\n",
    "#\\w - Returns a match where the string contains any word characters (characters from a to Z, digits from 0-9, and the underscore _ character)\n",
    "#?!coffee - Match expression if not followed by coffee"
   ]
  }
 ],
 "metadata": {
  "kernelspec": {
   "display_name": "Python 3",
   "language": "python",
   "name": "python3"
  },
  "language_info": {
   "codemirror_mode": {
    "name": "ipython",
    "version": 3
   },
   "file_extension": ".py",
   "mimetype": "text/x-python",
   "name": "python",
   "nbconvert_exporter": "python",
   "pygments_lexer": "ipython3",
   "version": "3.8.3"
  }
 },
 "nbformat": 4,
 "nbformat_minor": 4
}
