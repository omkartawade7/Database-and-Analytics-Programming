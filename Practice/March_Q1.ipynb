{
 "cells": [
  {
   "cell_type": "code",
   "execution_count": 90,
   "metadata": {},
   "outputs": [],
   "source": [
    "import xml.etree.ElementTree as ET\n",
    "import csv"
   ]
  },
  {
   "cell_type": "code",
   "execution_count": 91,
   "metadata": {},
   "outputs": [],
   "source": [
    "def print_records(root):\n",
    "    myroot = root\n",
    "    breed_arr = []\n",
    "    color_arr = []\n",
    "    coat_pattern_arr = []\n",
    "    for x in root.findall('row'):\n",
    "        breed = x.find('breed').text\n",
    "        breed_arr.append(breed)\n",
    "        color = x.find('color').text\n",
    "        color_arr.append(color)\n",
    "        coat_pattern = x.find('coat_pattern').text\n",
    "        coat_pattern_arr.append(coat_pattern)\n",
    "    for x in range (1,11,2):\n",
    "        print(\"Record \"+str(x)+\":\")\n",
    "        print(\"breed: {} \".format(breed_arr[x]))               #df.loc used for accesing the elements in pandas\n",
    "        print(\"color: {} \".format(color_arr[x]))\n",
    "        print(\"coat_pattern: {} \".format(coat_pattern_arr[x]))\n",
    "        "
   ]
  },
  {
   "cell_type": "code",
   "execution_count": 92,
   "metadata": {},
   "outputs": [],
   "source": [
    "def xml2csv(myroot):\n",
    "    \n",
    "    root = myroot\n",
    "    \n",
    "    #Open File for writing\n",
    "    shelter_data = open('shelter.csv', 'w')\n",
    "    \n",
    "    # create the csv writer object\n",
    "    csvwriter = csv.writer(shelter_data)\n",
    "    shelter_head = []\n",
    "    \n",
    "    count = 0\n",
    "    for x in root.findall('row'):\n",
    "        shel = []\n",
    "        if count == 0:\n",
    "            #Printing column names\n",
    "            breed = x.find('breed').tag\n",
    "            shelter_head.append(breed)\n",
    "            color = x.find('color').tag\n",
    "            shelter_head.append(color)            \n",
    "            csvwriter.writerow(shelter_head)\n",
    "            count = count + 1\n",
    "        #Printing values in the columns\n",
    "        breed = x.find('breed').text\n",
    "        shel.append(breed)\n",
    "        color = x.find('color').text\n",
    "        shel.append(color)            \n",
    "        csvwriter.writerow(shel)\n",
    "    shelter_data.close()\n",
    "\n"
   ]
  },
  {
   "cell_type": "code",
   "execution_count": 93,
   "metadata": {},
   "outputs": [],
   "source": [
    "def openxml():\n",
    "    try: \n",
    "        tree = ET.parse('shelter.xml')    #Parsing XML\n",
    "        root = tree.getroot()\n",
    "        return root\n",
    "    except IOError: \n",
    "        print('cannot open xml file')        #If file not found then this exception will be called"
   ]
  },
  {
   "cell_type": "code",
   "execution_count": 94,
   "metadata": {},
   "outputs": [
    {
     "name": "stdout",
     "output_type": "stream",
     "text": [
      "Record 1:\n",
      "breed: domestic shorthair \n",
      "color: blue /white \n",
      "coat_pattern: tabby \n",
      "Record 3:\n",
      "breed: domestic mediumhair \n",
      "color: black/white \n",
      "coat_pattern: None \n",
      "Record 5:\n",
      "breed: domestic shorthair \n",
      "color: brown \n",
      "coat_pattern: tabby \n",
      "Record 7:\n",
      "breed: domestic shorthair \n",
      "color: black \n",
      "coat_pattern: tabby \n",
      "Record 9:\n",
      "breed: domestic mediumhair \n",
      "color: black/white \n",
      "coat_pattern: None \n"
     ]
    }
   ],
   "source": [
    "def main():\n",
    "    myroot = openxml()\n",
    "    print_records(myroot)\n",
    "    xml2csv(myroot)\n",
    "    \n",
    "if __name__==\"__main__\":\n",
    "    main()"
   ]
  }
 ],
 "metadata": {
  "kernelspec": {
   "display_name": "Python 3",
   "language": "python",
   "name": "python3"
  },
  "language_info": {
   "codemirror_mode": {
    "name": "ipython",
    "version": 3
   },
   "file_extension": ".py",
   "mimetype": "text/x-python",
   "name": "python",
   "nbconvert_exporter": "python",
   "pygments_lexer": "ipython3",
   "version": "3.8.3"
  }
 },
 "nbformat": 4,
 "nbformat_minor": 4
}
